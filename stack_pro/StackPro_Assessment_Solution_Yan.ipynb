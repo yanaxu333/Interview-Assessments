{
 "cells": [
  {
   "cell_type": "markdown",
   "metadata": {},
   "source": [
    "# StackPro Coding Test\n",
    "Yan Xu                   [04/15/2018]\n",
    "## Data Description\n",
    "A mega-online shopping mall provides different baby brands to customers. In order to optimize\n",
    "online advertisements throughout websites, they want to predict the view-to-click probability given\n",
    "the information below.\n",
    "The data consists of:\n",
    "1. Action: the “interaction” that users completed when online ad was exposed. There are\n",
    "two types of actions in this dataset, View (a.k.a Impression) or Click.\n",
    "(Reference: https://en.wikipedia.org/wiki/Impression_(online_media))\n",
    "2. ID: unique user IDs\n",
    "3. Action Time: the time when action (View/Click) happened, in microseconds format\n",
    "4. Website: the website where the ad was published\n",
    "5. Banner Size: the banner size of ad\n",
    "6. Brand: the brand name that the ad was promoting\n",
    "7. Colour: the colour of product showcased in the ad\n",
    "8. Interaction Time: user’s interaction time with each ad (sec)\n",
    "\n",
    "\n",
    "##  Task\n",
    "### Goal:  Predict the Likelihood of Click\n",
    "### What we would like to see in your Jupyter Notebook:\n",
    "\n",
    "1. EDA Process (univariate/multivariate analysis, filling missing data etc.)\n",
    "2. Feature Selection (select existing features and explanation)\n",
    "3. Feature Engineering (create new features and explanation)\n",
    "4. Select and Create Model\n",
    "5. Hyper parameter Tuning if you feel it’s needed\n",
    "6. Model Validation process\n",
    "...\n"
   ]
  },
  {
   "cell_type": "markdown",
   "metadata": {},
   "source": [
    "# Step 1: Data Analysis: Understanding your data"
   ]
  },
  {
   "cell_type": "code",
   "execution_count": 265,
   "metadata": {
    "scrolled": true
   },
   "outputs": [],
   "source": [
    "#import modules\n",
    "import numpy as np # linear algebra\n",
    "import pandas as pd # data processing, CSV file I/O (e.g. pd.read_csv)\n",
    "import seaborn as sns\n",
    "import matplotlib.pyplot as plt\n",
    "%matplotlib inline\n",
    "\n",
    "\n",
    "from xgboost import XGBRegressor\n",
    "\n",
    "from sklearn.ensemble import RandomForestClassifier # import the random forest model\n",
    "from sklearn import  preprocessing # used for label encoding and imputing NaNs\n",
    "from sklearn.feature_selection import RFECV\n",
    "from sklearn.preprocessing import StandardScaler, RobustScaler\n",
    "from sklearn.metrics import make_scorer \n",
    "from sklearn.ensemble import RandomForestRegressor, GradientBoostingRegressor\n",
    "from sklearn.linear_model import Lasso, ElasticNet, Ridge\n",
    "from sklearn.kernel_ridge import KernelRidge\n",
    "from sklearn.model_selection import GridSearchCV, RandomizedSearchCV, cross_val_score, train_test_split\n",
    "from sklearn.feature_selection import RFECV\n",
    "#from sklearn.preprocessing import StandardScaler, RobustScaler\n",
    "from sklearn.metrics import make_scorer \n",
    "from sklearn.base import BaseEstimator, RegressorMixin\n",
    "\n",
    "# neural networks\n",
    "import keras\n",
    "from keras.models import Sequential\n",
    "from keras.layers import Dense\n",
    "from keras import regularizers\n",
    "\n",
    "from sklearn.tree import export_graphviz\n",
    "# import pydotplus\n",
    "import six\n"
   ]
  },
  {
   "cell_type": "markdown",
   "metadata": {},
   "source": [
    "## Load in dataset "
   ]
  },
  {
   "cell_type": "code",
   "execution_count": 266,
   "metadata": {},
   "outputs": [
    {
     "name": "stdout",
     "output_type": "stream",
     "text": [
      "\u001b[0m\u001b[01;35mFeatImportance.png\u001b[0m\r\n",
      "\u001b[01;34m__MACOSX\u001b[0m/\r\n",
      "StackPro_Accessment_Solution_Yan.ipynb\r\n",
      "StackPros_Assessment_DataScientist_Senior.csv\r\n",
      "StackPros_Assessment_DataScientist_Senior.pdf\r\n",
      "Untitled.ipynb\r\n",
      "\u001b[01;34mxgboost\u001b[0m/\r\n",
      "xgboost_Click_Probability.csv\r\n"
     ]
    }
   ],
   "source": [
    "%ls\n"
   ]
  },
  {
   "cell_type": "code",
   "execution_count": 267,
   "metadata": {},
   "outputs": [
    {
     "data": {
      "text/html": [
       "<div>\n",
       "<style>\n",
       "    .dataframe thead tr:only-child th {\n",
       "        text-align: right;\n",
       "    }\n",
       "\n",
       "    .dataframe thead th {\n",
       "        text-align: left;\n",
       "    }\n",
       "\n",
       "    .dataframe tbody tr th {\n",
       "        vertical-align: top;\n",
       "    }\n",
       "</style>\n",
       "<table border=\"1\" class=\"dataframe\">\n",
       "  <thead>\n",
       "    <tr style=\"text-align: right;\">\n",
       "      <th></th>\n",
       "      <th>Unnamed: 0</th>\n",
       "      <th>ID</th>\n",
       "      <th>ActionTime</th>\n",
       "      <th>Action</th>\n",
       "      <th>Website</th>\n",
       "      <th>BannerSize</th>\n",
       "      <th>Brand</th>\n",
       "      <th>colour</th>\n",
       "      <th>InteractionTime</th>\n",
       "    </tr>\n",
       "  </thead>\n",
       "  <tbody>\n",
       "    <tr>\n",
       "      <th>0</th>\n",
       "      <td>1</td>\n",
       "      <td>AMsySZbNg8SBwPtj7IGHnip_8aY0</td>\n",
       "      <td>1508761859495365</td>\n",
       "      <td>View</td>\n",
       "      <td>Facebook</td>\n",
       "      <td>300x600</td>\n",
       "      <td>Carter's</td>\n",
       "      <td>Pink</td>\n",
       "      <td>0.171601</td>\n",
       "    </tr>\n",
       "    <tr>\n",
       "      <th>1</th>\n",
       "      <td>2</td>\n",
       "      <td>AMsySZZcUFNGOJs-lfC9j-ZDlV7Z</td>\n",
       "      <td>1502847469736117</td>\n",
       "      <td>View</td>\n",
       "      <td>Facebook</td>\n",
       "      <td>300x250</td>\n",
       "      <td>Burberry</td>\n",
       "      <td>Red</td>\n",
       "      <td>4.303945</td>\n",
       "    </tr>\n",
       "    <tr>\n",
       "      <th>2</th>\n",
       "      <td>3</td>\n",
       "      <td>AMsySZYoK8_bD0hGv4zu0iRn1TFo</td>\n",
       "      <td>1514169431528120</td>\n",
       "      <td>View</td>\n",
       "      <td>Facebook</td>\n",
       "      <td>728x90</td>\n",
       "      <td>Disney</td>\n",
       "      <td>Yellow</td>\n",
       "      <td>0.868106</td>\n",
       "    </tr>\n",
       "    <tr>\n",
       "      <th>3</th>\n",
       "      <td>4</td>\n",
       "      <td>AMsySZahxpwLOWnMJj6RGATgwEOc</td>\n",
       "      <td>1515527952591896</td>\n",
       "      <td>View</td>\n",
       "      <td>Facebook</td>\n",
       "      <td>320x50</td>\n",
       "      <td>Carter's</td>\n",
       "      <td>Yellow</td>\n",
       "      <td>0.802647</td>\n",
       "    </tr>\n",
       "    <tr>\n",
       "      <th>4</th>\n",
       "      <td>5</td>\n",
       "      <td>AMsySZbqgfMBDtAqZz1jVRaOmX00</td>\n",
       "      <td>1507514809374045</td>\n",
       "      <td>View</td>\n",
       "      <td>instagram.com</td>\n",
       "      <td>300x250</td>\n",
       "      <td>Gap</td>\n",
       "      <td>Gold</td>\n",
       "      <td>0.627148</td>\n",
       "    </tr>\n",
       "  </tbody>\n",
       "</table>\n",
       "</div>"
      ],
      "text/plain": [
       "   Unnamed: 0                            ID        ActionTime Action  \\\n",
       "0           1  AMsySZbNg8SBwPtj7IGHnip_8aY0  1508761859495365   View   \n",
       "1           2  AMsySZZcUFNGOJs-lfC9j-ZDlV7Z  1502847469736117   View   \n",
       "2           3  AMsySZYoK8_bD0hGv4zu0iRn1TFo  1514169431528120   View   \n",
       "3           4  AMsySZahxpwLOWnMJj6RGATgwEOc  1515527952591896   View   \n",
       "4           5  AMsySZbqgfMBDtAqZz1jVRaOmX00  1507514809374045   View   \n",
       "\n",
       "         Website BannerSize     Brand  colour  InteractionTime  \n",
       "0       Facebook    300x600  Carter's    Pink         0.171601  \n",
       "1       Facebook    300x250  Burberry     Red         4.303945  \n",
       "2       Facebook     728x90    Disney  Yellow         0.868106  \n",
       "3       Facebook     320x50  Carter's  Yellow         0.802647  \n",
       "4  instagram.com    300x250       Gap    Gold         0.627148  "
      ]
     },
     "execution_count": 267,
     "metadata": {},
     "output_type": "execute_result"
    }
   ],
   "source": [
    "raw_data = pd.read_csv('StackPros_Assessment_DataScientist_Senior.csv')\n",
    "raw_data.head()"
   ]
  },
  {
   "cell_type": "code",
   "execution_count": 268,
   "metadata": {},
   "outputs": [
    {
     "data": {
      "text/plain": [
       "ID                  object\n",
       "ActionTime           int64\n",
       "Action              object\n",
       "Website             object\n",
       "BannerSize          object\n",
       "Brand               object\n",
       "colour              object\n",
       "InteractionTime    float64\n",
       "dtype: object"
      ]
     },
     "execution_count": 268,
     "metadata": {},
     "output_type": "execute_result"
    }
   ],
   "source": [
    "#change the a column name 'Unnamed:0' to 'Index'\n",
    "#raw_data.rename(columns = {'Unnamed: 0': 'Index'},inplace =True)\n",
    "# Drop Unnamed:0 column because it does not contribute to building a model\n",
    "raw_data.drop(['Unnamed: 0'], 1, inplace=True)\n",
    "raw_data.dtypes"
   ]
  },
  {
   "cell_type": "markdown",
   "metadata": {},
   "source": [
    "By looking at the data type of each column, we know that this dataset mainly contains catagrical features(2 numerical features and 6 catagrical features)."
   ]
  },
  {
   "cell_type": "code",
   "execution_count": 269,
   "metadata": {},
   "outputs": [
    {
     "name": "stdout",
     "output_type": "stream",
     "text": [
      "('the Shape of The Dataset', (1000000, 8))\n"
     ]
    }
   ],
   "source": [
    "# the size of the dataset \n",
    "print ('the Shape of The Dataset',raw_data.shape)"
   ]
  },
  {
   "cell_type": "code",
   "execution_count": 270,
   "metadata": {},
   "outputs": [
    {
     "name": "stdout",
     "output_type": "stream",
     "text": [
      "('Number of unique IDs:', 218686)\n",
      "('Number of unique Actions:', 2)\n",
      "('Number of unique Websites:', 16)\n",
      "('Number of unique BannerSizes:', 15)\n",
      "('Number of unique Brands:', 10)\n",
      "('Number of unique colours:', 7)\n"
     ]
    }
   ],
   "source": [
    "\n",
    "#chech how many  levels for each catagrical column\n",
    "#print('Columns:',raw_data.columns.tolist())\n",
    "print('Number of unique IDs:', len(raw_data.ID.unique()))\n",
    "print('Number of unique Actions:', len(raw_data.Action.unique()))\n",
    "print('Number of unique Websites:', len(raw_data.Website.unique()))\n",
    "print('Number of unique BannerSizes:', len(raw_data.BannerSize.unique()))\n",
    "print('Number of unique Brands:', len(raw_data.Brand.unique()))\n",
    "print('Number of unique colours:', len(raw_data.colour.unique()))\n"
   ]
  },
  {
   "cell_type": "markdown",
   "metadata": {},
   "source": [
    "## The following plots show histograms of catagrical features:\n"
   ]
  },
  {
   "cell_type": "code",
   "execution_count": 271,
   "metadata": {},
   "outputs": [
    {
     "data": {
      "text/plain": [
       "Action\n",
       "Click       244\n",
       "View     999756\n",
       "dtype: int64"
      ]
     },
     "execution_count": 271,
     "metadata": {},
     "output_type": "execute_result"
    },
    {
     "data": {
      "image/png": "[encoded data removed]",
      "text/plain": [
       "<matplotlib.figure.Figure at 0x7f4c181a0f90>"
      ]
     },
     "metadata": {},
     "output_type": "display_data"
    }
   ],
   "source": [
    "# As 'Action' attribute here is the label of our dataset, it is necessary to check if this dataset is balanced?\n",
    "\n",
    "sns.countplot(raw_data.Action)\n",
    "# One interesting thing is to figure out how many of records has Action attribute equal 'Click'\n",
    "raw_data.groupby('Action').size()"
   ]
  },
  {
   "cell_type": "markdown",
   "metadata": {},
   "source": [
    "#### This figure shows that that the dataset we have is highly imbalanced\n",
    "The most possible action users taken is View, Just  a few of them actually click on ads.\n",
    "Therefore, we might need to look into that when sampling training set and testing set. We need to keep this in mind when performing modelling and evaluation.\n",
    "\n",
    "\n"
   ]
  },
  {
   "cell_type": "code",
   "execution_count": 272,
   "metadata": {},
   "outputs": [
    {
     "data": {
      "text/plain": [
       "<matplotlib.axes._subplots.AxesSubplot at 0x7f4c93154c10>"
      ]
     },
     "execution_count": 272,
     "metadata": {},
     "output_type": "execute_result"
    },
    {
     "data": {
      "image/png": "[encoded data removed]",
      "text/plain": [
       "<matplotlib.figure.Figure at 0x7f4c77b50790>"
      ]
     },
     "metadata": {},
     "output_type": "display_data"
    }
   ],
   "source": [
    "fig=plt.figure(figsize=(15,5))\n",
    "sns.countplot(raw_data.Brand)"
   ]
  },
  {
   "cell_type": "markdown",
   "metadata": {},
   "source": [
    "###  As for the 'brand' feature, we cannot find somthing that we need topay attention to"
   ]
  },
  {
   "cell_type": "code",
   "execution_count": 273,
   "metadata": {},
   "outputs": [
    {
     "data": {
      "text/plain": [
       "<matplotlib.axes._subplots.AxesSubplot at 0x7f4c1a9c0ad0>"
      ]
     },
     "execution_count": 273,
     "metadata": {},
     "output_type": "execute_result"
    },
    {
     "data": {
      "image/png": "[encoded data removed]",
      "text/plain": [
       "<matplotlib.figure.Figure at 0x7f4c23f70c50>"
      ]
     },
     "metadata": {},
     "output_type": "display_data"
    }
   ],
   "source": [
    "fig=plt.figure(figsize=(15,5))\n",
    "sns.countplot(raw_data.Website)"
   ]
  },
  {
   "cell_type": "markdown",
   "metadata": {},
   "source": [
    "### We can find that the majority of the ads were exposed on Facebook according to our dataset"
   ]
  },
  {
   "cell_type": "code",
   "execution_count": 274,
   "metadata": {
    "scrolled": true
   },
   "outputs": [
    {
     "data": {
      "text/plain": [
       "<matplotlib.axes._subplots.AxesSubplot at 0x7f4c1aa1f3d0>"
      ]
     },
     "execution_count": 274,
     "metadata": {},
     "output_type": "execute_result"
    },
    {
     "data": {
      "image/png": "[encoded data removed]",
      "text/plain": [
       "<matplotlib.figure.Figure at 0x7f4c193edc90>"
      ]
     },
     "metadata": {},
     "output_type": "display_data"
    }
   ],
   "source": [
    "fig=plt.figure(figsize=(15,5))\n",
    "sns.countplot(raw_data.BannerSize)"
   ]
  },
  {
   "cell_type": "markdown",
   "metadata": {},
   "source": [
    "#### Note here, there are two factors[other, Other], they should represents the same meaning\n",
    "This will be solved later"
   ]
  },
  {
   "cell_type": "code",
   "execution_count": 275,
   "metadata": {
    "scrolled": true
   },
   "outputs": [
    {
     "data": {
      "text/plain": [
       "<matplotlib.axes._subplots.AxesSubplot at 0x7f4c19324910>"
      ]
     },
     "execution_count": 275,
     "metadata": {},
     "output_type": "execute_result"
    },
    {
     "data": {
      "image/png": "[encoded data removed]",
      "text/plain": [
       "<matplotlib.figure.Figure at 0x7f4c93154750>"
      ]
     },
     "metadata": {},
     "output_type": "display_data"
    }
   ],
   "source": [
    "#fig=plt.figure(figsize=(20,10))\n",
    "sns.countplot(raw_data.colour)"
   ]
  },
  {
   "cell_type": "markdown",
   "metadata": {},
   "source": [
    "###  As for the 'Colour' feature, we cannot find somthing that we need topay attention to."
   ]
  },
  {
   "cell_type": "markdown",
   "metadata": {},
   "source": [
    "## Several Observations\n",
    "From above results, few things can be found:\n",
    "\n",
    "1. The Number of unique IDs is greater than the number of our records, which means one user might view ads more than once. The dataset contains more than two records for a unique user.\n",
    "\n",
    "2. At this stage, I discovered a problem, which is the BannerSizes feature, the intuition is that the bigger the banner size, there are higer probabilities that user will click on ads. Intrincally, it should not be catagrical feature, instead, it might be better to convert it to numberical feature, This is where I can do Feature Engineering later on.\n",
    "\n",
    "3. The two features, colour and BannerSize contain 'other' catagory, this is not a big problem, Regaring to colour feature, we can regard the ''other catagory as a new catagory. Regaring to BannerSize feature, we will solve this when we perform feature engineering. \n",
    "\n",
    "4. After looking at the distribution plots of catagorical features, we can conclude that there are no missing values in catagorical features\n",
    "\n"
   ]
  },
  {
   "cell_type": "markdown",
   "metadata": {},
   "source": [
    "# Feature Engineering\n",
    "\n",
    "As mentioned before, BannerSize feature is a feature we might need to introduce a feature--'BannerArea' "
   ]
  },
  {
   "cell_type": "code",
   "execution_count": 276,
   "metadata": {},
   "outputs": [
    {
     "data": {
      "text/html": [
       "<div>\n",
       "<style>\n",
       "    .dataframe thead tr:only-child th {\n",
       "        text-align: right;\n",
       "    }\n",
       "\n",
       "    .dataframe thead th {\n",
       "        text-align: left;\n",
       "    }\n",
       "\n",
       "    .dataframe tbody tr th {\n",
       "        vertical-align: top;\n",
       "    }\n",
       "</style>\n",
       "<table border=\"1\" class=\"dataframe\">\n",
       "  <thead>\n",
       "    <tr style=\"text-align: right;\">\n",
       "      <th></th>\n",
       "      <th>ID</th>\n",
       "      <th>ActionTime</th>\n",
       "      <th>Action</th>\n",
       "      <th>Website</th>\n",
       "      <th>BannerArea</th>\n",
       "      <th>Brand</th>\n",
       "      <th>colour</th>\n",
       "      <th>InteractionTime</th>\n",
       "    </tr>\n",
       "  </thead>\n",
       "  <tbody>\n",
       "    <tr>\n",
       "      <th>0</th>\n",
       "      <td>AMsySZbNg8SBwPtj7IGHnip_8aY0</td>\n",
       "      <td>1508761859495365</td>\n",
       "      <td>View</td>\n",
       "      <td>Facebook</td>\n",
       "      <td>180000</td>\n",
       "      <td>Carter's</td>\n",
       "      <td>Pink</td>\n",
       "      <td>0.171601</td>\n",
       "    </tr>\n",
       "    <tr>\n",
       "      <th>1</th>\n",
       "      <td>AMsySZZcUFNGOJs-lfC9j-ZDlV7Z</td>\n",
       "      <td>1502847469736117</td>\n",
       "      <td>View</td>\n",
       "      <td>Facebook</td>\n",
       "      <td>75000</td>\n",
       "      <td>Burberry</td>\n",
       "      <td>Red</td>\n",
       "      <td>4.303945</td>\n",
       "    </tr>\n",
       "    <tr>\n",
       "      <th>2</th>\n",
       "      <td>AMsySZYoK8_bD0hGv4zu0iRn1TFo</td>\n",
       "      <td>1514169431528120</td>\n",
       "      <td>View</td>\n",
       "      <td>Facebook</td>\n",
       "      <td>65520</td>\n",
       "      <td>Disney</td>\n",
       "      <td>Yellow</td>\n",
       "      <td>0.868106</td>\n",
       "    </tr>\n",
       "    <tr>\n",
       "      <th>3</th>\n",
       "      <td>AMsySZahxpwLOWnMJj6RGATgwEOc</td>\n",
       "      <td>1515527952591896</td>\n",
       "      <td>View</td>\n",
       "      <td>Facebook</td>\n",
       "      <td>16000</td>\n",
       "      <td>Carter's</td>\n",
       "      <td>Yellow</td>\n",
       "      <td>0.802647</td>\n",
       "    </tr>\n",
       "    <tr>\n",
       "      <th>4</th>\n",
       "      <td>AMsySZbqgfMBDtAqZz1jVRaOmX00</td>\n",
       "      <td>1507514809374045</td>\n",
       "      <td>View</td>\n",
       "      <td>instagram.com</td>\n",
       "      <td>75000</td>\n",
       "      <td>Gap</td>\n",
       "      <td>Gold</td>\n",
       "      <td>0.627148</td>\n",
       "    </tr>\n",
       "  </tbody>\n",
       "</table>\n",
       "</div>"
      ],
      "text/plain": [
       "                             ID        ActionTime Action        Website  \\\n",
       "0  AMsySZbNg8SBwPtj7IGHnip_8aY0  1508761859495365   View       Facebook   \n",
       "1  AMsySZZcUFNGOJs-lfC9j-ZDlV7Z  1502847469736117   View       Facebook   \n",
       "2  AMsySZYoK8_bD0hGv4zu0iRn1TFo  1514169431528120   View       Facebook   \n",
       "3  AMsySZahxpwLOWnMJj6RGATgwEOc  1515527952591896   View       Facebook   \n",
       "4  AMsySZbqgfMBDtAqZz1jVRaOmX00  1507514809374045   View  instagram.com   \n",
       "\n",
       "  BannerArea     Brand  colour  InteractionTime  \n",
       "0     180000  Carter's    Pink         0.171601  \n",
       "1      75000  Burberry     Red         4.303945  \n",
       "2      65520    Disney  Yellow         0.868106  \n",
       "3      16000  Carter's  Yellow         0.802647  \n",
       "4      75000       Gap    Gold         0.627148  "
      ]
     },
     "execution_count": 276,
     "metadata": {},
     "output_type": "execute_result"
    }
   ],
   "source": [
    "# fist we need to deal calculate BannerArea, we will regard 'other' or 'Other' factors as missing values in this column\n",
    "sizes= raw_data.BannerSize.unique()\n",
    "# As there are just several possible banner sizes, we can calculate the possible area and then infer these values \n",
    "#to new BannerArea feature \n",
    "#define a method to calculate area of banner \n",
    "sizes = sizes.tolist()\n",
    "new_dir = {}\n",
    "for i, size in enumerate(sizes):\n",
    "    if size =='Other' or size == 'other':\n",
    "        new_dir[i]= 0  \n",
    "    else:\n",
    "        a= size.split('x')\n",
    "        area = int(a[0])*int(a[1])\n",
    "        new_dir[i] = area        \n",
    "for i, size in enumerate(sizes):\n",
    "    mask = raw_data.BannerSize == size\n",
    "    column_name = 'BannerSize'\n",
    "    raw_data.loc[mask, column_name] = new_dir[i]\n",
    "    \n",
    "# change the feayture name\n",
    "raw_data.rename(columns = {'BannerSize': 'BannerArea'},inplace =True)   \n",
    "\n",
    "raw_data.head()\n",
    "\n",
    "\n"
   ]
  },
  {
   "cell_type": "code",
   "execution_count": 277,
   "metadata": {},
   "outputs": [],
   "source": [
    "#df[['two', 'three']] = df[['two', 'three']].astype(float)\n",
    "raw_data[['BannerArea']] = raw_data[['BannerArea']].astype(float)\n",
    "\n",
    "raw_data.loc[raw_data['BannerArea'] == 0,'BannerArea'] = np.nan\n",
    "\n",
    "\n"
   ]
  },
  {
   "cell_type": "code",
   "execution_count": 278,
   "metadata": {},
   "outputs": [
    {
     "data": {
      "text/plain": [
       "array([False,  True], dtype=bool)"
      ]
     },
     "execution_count": 278,
     "metadata": {},
     "output_type": "execute_result"
    }
   ],
   "source": [
    "raw_data.BannerArea.isnull().unique()"
   ]
  },
  {
   "cell_type": "markdown",
   "metadata": {},
   "source": [
    "\n",
    "# Step 2: Missing value checking and dealing with missing values  \n",
    "\n",
    "Defined a finction to check of there are missing values in a cenrtain feature"
   ]
  },
  {
   "cell_type": "code",
   "execution_count": 279,
   "metadata": {},
   "outputs": [
    {
     "name": "stdout",
     "output_type": "stream",
     "text": [
      "There are no missing values in feature: ID\n",
      "There are no missing values in feature: ActionTime\n",
      "There are no missing values in feature: Action\n",
      "There are no missing values in feature: Website\n",
      "Alert！ There are missing values in feature:  BannerArea\n",
      "There are no missing values in feature: Brand\n",
      "There are no missing values in feature: colour\n",
      "Alert！ There are missing values in feature:  InteractionTime\n"
     ]
    }
   ],
   "source": [
    "def CheckMissingValues(feature):\n",
    "    cc =raw_data[feature].isnull().unique()\n",
    "    if len(cc) == 1: #if length=1 means return only false,so there are no misssing values\n",
    "        print 'There are no missing values in feature: %s'%feature\n",
    "    else:\n",
    "        print 'Alert！ There are missing values in feature:  %s'%feature\n",
    "\n",
    "column_list = raw_data.columns.tolist()\n",
    "# check if feature has missing values\n",
    "for i in column_list:\n",
    "    CheckMissingValues(i)\n"
   ]
  },
  {
   "cell_type": "markdown",
   "metadata": {},
   "source": [
    "#### Addressing problems with NaN in the data\n",
    "\n",
    "As we saw from our EDA there were NaN in feature: InteractionTime. Our model won't know what to do with these so we need to replace them with something sensible.\n",
    "\n",
    "There are quite a few options we can use - the mean, median, most_frequent, or a numeric value like 0. Playing with these will give different results, for now I have it set to use the mean.\n",
    "\n",
    "This uses the mean of the column in which the missing value is located."
   ]
  },
  {
   "cell_type": "code",
   "execution_count": 280,
   "metadata": {},
   "outputs": [
    {
     "name": "stdout",
     "output_type": "stream",
     "text": [
      "       column_name  missing_count\n",
      "4       BannerArea         162246\n",
      "7  InteractionTime              8\n"
     ]
    }
   ],
   "source": [
    "# Create a list of columns that have missing values and an index (True / False)\n",
    "df_missing = raw_data.isnull().sum(axis = 0).reset_index()\n",
    "df_missing.columns = ['column_name', 'missing_count']\n",
    "idx_ = df_missing['missing_count'] > 0\n",
    "df_missing = df_missing.loc[idx_]\n",
    "\n",
    "cols_missing = df_missing.column_name.values\n",
    "idx_cols_missing = raw_data.columns.isin(cols_missing)\n",
    "print df_missing # this will count the number of missing values in our dataset\n"
   ]
  },
  {
   "cell_type": "markdown",
   "metadata": {},
   "source": [
    "As there are only 8 missing values in InteractionTime, Therefore, the way of dealing with missing values won't affect prediction results too much "
   ]
  },
  {
   "cell_type": "code",
   "execution_count": 281,
   "metadata": {},
   "outputs": [],
   "source": [
    "# Instantiate an imputer\n",
    "imputer = preprocessing.Imputer(missing_values='NaN', strategy = 'mean', axis = 0)\n",
    "\n",
    "# Fit the imputer using all of our data (but not any dates)\n",
    "imputer.fit(raw_data.loc[:, idx_cols_missing])\n",
    "\n",
    "# Apply the imputer\n",
    "raw_data.loc[:, idx_cols_missing] = imputer.transform(raw_data.loc[:, idx_cols_missing])\n"
   ]
  },
  {
   "cell_type": "code",
   "execution_count": 282,
   "metadata": {},
   "outputs": [
    {
     "name": "stdout",
     "output_type": "stream",
     "text": [
      "After dealing with missing values\n",
      "There are no missing values in feature: InteractionTime\n",
      "There are no missing values in feature: BannerArea\n"
     ]
    }
   ],
   "source": [
    "#check again if missing values are filled already?\n",
    "print 'After dealing with missing values'\n",
    "CheckMissingValues('InteractionTime')\n",
    "CheckMissingValues('BannerArea')\n",
    "#let's take a look at the histogram of the two numerical data \n",
    "# let's take a look at the distrinution of data\n"
   ]
  },
  {
   "cell_type": "code",
   "execution_count": 283,
   "metadata": {},
   "outputs": [
    {
     "data": {
      "image/png": "[encoded data removed]",
      "text/plain": [
       "<matplotlib.figure.Figure at 0x7f4c77ce08d0>"
      ]
     },
     "metadata": {},
     "output_type": "display_data"
    }
   ],
   "source": [
    "import matplotlib.pyplot as plt\n",
    "# plot a line, implicitly creating a subplot(111)\n",
    "\n",
    "\n",
    "# now create a subplot which represents the top plot of a grid\n",
    "# with 2 rows and 1 column. Since this subplot will overlap the\n",
    "# first, the plot (and its axes) previously created, will be removed\n",
    "plt.subplot(212)\n",
    "plt.hist(raw_data['InteractionTime']);\n",
    "plt.subplot(211) # creates 2nd subplot with yellow background\n",
    "plt.hist(raw_data['ActionTime']);"
   ]
  },
  {
   "cell_type": "markdown",
   "metadata": {},
   "source": [
    "#### This figure shows the histograms of ActionTime and Interaction time"
   ]
  },
  {
   "cell_type": "markdown",
   "metadata": {},
   "source": []
  },
  {
   "cell_type": "code",
   "execution_count": null,
   "metadata": {},
   "outputs": [],
   "source": []
  },
  {
   "cell_type": "markdown",
   "metadata": {},
   "source": [
    "## Encoding categorical features\n",
    "We will take a naive approach and assign a numeric value to each categorical feature in our dataset. Sklearn's preprocessing unit has a tool called LabelEncoder() which can do just that for us."
   ]
  },
  {
   "cell_type": "code",
   "execution_count": 284,
   "metadata": {},
   "outputs": [
    {
     "name": "stdout",
     "output_type": "stream",
     "text": [
      "<class 'pandas.core.frame.DataFrame'>\n",
      "(1000000, 7)\n"
     ]
    },
    {
     "data": {
      "text/html": [
       "<div>\n",
       "<style>\n",
       "    .dataframe thead tr:only-child th {\n",
       "        text-align: right;\n",
       "    }\n",
       "\n",
       "    .dataframe thead th {\n",
       "        text-align: left;\n",
       "    }\n",
       "\n",
       "    .dataframe tbody tr th {\n",
       "        vertical-align: top;\n",
       "    }\n",
       "</style>\n",
       "<table border=\"1\" class=\"dataframe\">\n",
       "  <thead>\n",
       "    <tr style=\"text-align: right;\">\n",
       "      <th></th>\n",
       "      <th>ID</th>\n",
       "      <th>ActionTime</th>\n",
       "      <th>Website</th>\n",
       "      <th>BannerArea</th>\n",
       "      <th>Brand</th>\n",
       "      <th>colour</th>\n",
       "      <th>InteractionTime</th>\n",
       "    </tr>\n",
       "  </thead>\n",
       "  <tbody>\n",
       "    <tr>\n",
       "      <th>0</th>\n",
       "      <td>185287</td>\n",
       "      <td>1508761859495365</td>\n",
       "      <td>5</td>\n",
       "      <td>180000.0</td>\n",
       "      <td>2</td>\n",
       "      <td>2</td>\n",
       "      <td>0.171601</td>\n",
       "    </tr>\n",
       "    <tr>\n",
       "      <th>1</th>\n",
       "      <td>89056</td>\n",
       "      <td>1502847469736117</td>\n",
       "      <td>5</td>\n",
       "      <td>75000.0</td>\n",
       "      <td>1</td>\n",
       "      <td>3</td>\n",
       "      <td>4.303945</td>\n",
       "    </tr>\n",
       "    <tr>\n",
       "      <th>2</th>\n",
       "      <td>44526</td>\n",
       "      <td>1514169431528120</td>\n",
       "      <td>5</td>\n",
       "      <td>65520.0</td>\n",
       "      <td>3</td>\n",
       "      <td>5</td>\n",
       "      <td>0.868106</td>\n",
       "    </tr>\n",
       "    <tr>\n",
       "      <th>3</th>\n",
       "      <td>148601</td>\n",
       "      <td>1515527952591896</td>\n",
       "      <td>5</td>\n",
       "      <td>16000.0</td>\n",
       "      <td>2</td>\n",
       "      <td>5</td>\n",
       "      <td>0.802647</td>\n",
       "    </tr>\n",
       "    <tr>\n",
       "      <th>4</th>\n",
       "      <td>210803</td>\n",
       "      <td>1507514809374045</td>\n",
       "      <td>15</td>\n",
       "      <td>75000.0</td>\n",
       "      <td>4</td>\n",
       "      <td>1</td>\n",
       "      <td>0.627148</td>\n",
       "    </tr>\n",
       "  </tbody>\n",
       "</table>\n",
       "</div>"
      ],
      "text/plain": [
       "       ID        ActionTime  Website  BannerArea  Brand  colour  \\\n",
       "0  185287  1508761859495365        5    180000.0      2       2   \n",
       "1   89056  1502847469736117        5     75000.0      1       3   \n",
       "2   44526  1514169431528120        5     65520.0      3       5   \n",
       "3  148601  1515527952591896        5     16000.0      2       5   \n",
       "4  210803  1507514809374045       15     75000.0      4       1   \n",
       "\n",
       "   InteractionTime  \n",
       "0         0.171601  \n",
       "1         4.303945  \n",
       "2         0.868106  \n",
       "3         0.802647  \n",
       "4         0.627148  "
      ]
     },
     "execution_count": 284,
     "metadata": {},
     "output_type": "execute_result"
    }
   ],
   "source": [
    "\n",
    "# extract the label column:\n",
    "labels = raw_data[['Action']]\n",
    "\n",
    "df_fea = raw_data.drop([\"Action\"], axis=1)\n",
    "# encoding categorical features\n",
    "for c in df_fea.columns:\n",
    "    if df_fea[c].dtype == 'object':\n",
    "        lbl = preprocessing.LabelEncoder()\n",
    "        lbl.fit(list(df_fea[c].values)) \n",
    "        df_fea[c] = lbl.transform(list(df_fea[c].values))\n",
    "#encoding label column: click=1,view =0\n",
    "labels = labels.Action.map(dict(Click=1, View=0)).to_frame();\n",
    "\n",
    "print type(labels)\n",
    "print df_fea.shape\n",
    "df_fea.head()\n",
    "\n",
    "#split the data into train set and test set"
   ]
  },
  {
   "cell_type": "markdown",
   "metadata": {},
   "source": [
    "## Multivariate Analysis\n",
    "#### Use  the correlation matrix to check if data has multicolinearity "
   ]
  },
  {
   "cell_type": "code",
   "execution_count": 285,
   "metadata": {},
   "outputs": [
    {
     "data": {
      "text/html": [
       "<div>\n",
       "<style>\n",
       "    .dataframe thead tr:only-child th {\n",
       "        text-align: right;\n",
       "    }\n",
       "\n",
       "    .dataframe thead th {\n",
       "        text-align: left;\n",
       "    }\n",
       "\n",
       "    .dataframe tbody tr th {\n",
       "        vertical-align: top;\n",
       "    }\n",
       "</style>\n",
       "<table border=\"1\" class=\"dataframe\">\n",
       "  <thead>\n",
       "    <tr style=\"text-align: right;\">\n",
       "      <th></th>\n",
       "      <th>ID</th>\n",
       "      <th>ActionTime</th>\n",
       "      <th>Website</th>\n",
       "      <th>BannerArea</th>\n",
       "      <th>Brand</th>\n",
       "      <th>colour</th>\n",
       "      <th>InteractionTime</th>\n",
       "    </tr>\n",
       "  </thead>\n",
       "  <tbody>\n",
       "    <tr>\n",
       "      <th>ID</th>\n",
       "      <td>1.000000</td>\n",
       "      <td>0.005492</td>\n",
       "      <td>-0.014643</td>\n",
       "      <td>-0.005110</td>\n",
       "      <td>0.000837</td>\n",
       "      <td>-0.000189</td>\n",
       "      <td>0.000294</td>\n",
       "    </tr>\n",
       "    <tr>\n",
       "      <th>ActionTime</th>\n",
       "      <td>0.005492</td>\n",
       "      <td>1.000000</td>\n",
       "      <td>-0.072466</td>\n",
       "      <td>-0.136278</td>\n",
       "      <td>0.000056</td>\n",
       "      <td>0.000037</td>\n",
       "      <td>-0.000396</td>\n",
       "    </tr>\n",
       "    <tr>\n",
       "      <th>Website</th>\n",
       "      <td>-0.014643</td>\n",
       "      <td>-0.072466</td>\n",
       "      <td>1.000000</td>\n",
       "      <td>0.296087</td>\n",
       "      <td>-0.001241</td>\n",
       "      <td>0.000620</td>\n",
       "      <td>0.001795</td>\n",
       "    </tr>\n",
       "    <tr>\n",
       "      <th>BannerArea</th>\n",
       "      <td>-0.005110</td>\n",
       "      <td>-0.136278</td>\n",
       "      <td>0.296087</td>\n",
       "      <td>1.000000</td>\n",
       "      <td>-0.002021</td>\n",
       "      <td>0.000187</td>\n",
       "      <td>-0.000381</td>\n",
       "    </tr>\n",
       "    <tr>\n",
       "      <th>Brand</th>\n",
       "      <td>0.000837</td>\n",
       "      <td>0.000056</td>\n",
       "      <td>-0.001241</td>\n",
       "      <td>-0.002021</td>\n",
       "      <td>1.000000</td>\n",
       "      <td>0.001227</td>\n",
       "      <td>0.000871</td>\n",
       "    </tr>\n",
       "    <tr>\n",
       "      <th>colour</th>\n",
       "      <td>-0.000189</td>\n",
       "      <td>0.000037</td>\n",
       "      <td>0.000620</td>\n",
       "      <td>0.000187</td>\n",
       "      <td>0.001227</td>\n",
       "      <td>1.000000</td>\n",
       "      <td>-0.001400</td>\n",
       "    </tr>\n",
       "    <tr>\n",
       "      <th>InteractionTime</th>\n",
       "      <td>0.000294</td>\n",
       "      <td>-0.000396</td>\n",
       "      <td>0.001795</td>\n",
       "      <td>-0.000381</td>\n",
       "      <td>0.000871</td>\n",
       "      <td>-0.001400</td>\n",
       "      <td>1.000000</td>\n",
       "    </tr>\n",
       "  </tbody>\n",
       "</table>\n",
       "</div>"
      ],
      "text/plain": [
       "                       ID  ActionTime   Website  BannerArea     Brand  \\\n",
       "ID               1.000000    0.005492 -0.014643   -0.005110  0.000837   \n",
       "ActionTime       0.005492    1.000000 -0.072466   -0.136278  0.000056   \n",
       "Website         -0.014643   -0.072466  1.000000    0.296087 -0.001241   \n",
       "BannerArea      -0.005110   -0.136278  0.296087    1.000000 -0.002021   \n",
       "Brand            0.000837    0.000056 -0.001241   -0.002021  1.000000   \n",
       "colour          -0.000189    0.000037  0.000620    0.000187  0.001227   \n",
       "InteractionTime  0.000294   -0.000396  0.001795   -0.000381  0.000871   \n",
       "\n",
       "                   colour  InteractionTime  \n",
       "ID              -0.000189         0.000294  \n",
       "ActionTime       0.000037        -0.000396  \n",
       "Website          0.000620         0.001795  \n",
       "BannerArea       0.000187        -0.000381  \n",
       "Brand            0.001227         0.000871  \n",
       "colour           1.000000        -0.001400  \n",
       "InteractionTime -0.001400         1.000000  "
      ]
     },
     "execution_count": 285,
     "metadata": {},
     "output_type": "execute_result"
    },
    {
     "data": {
      "image/png": "[encoded data removed]",
      "text/plain": [
       "<matplotlib.figure.Figure at 0x7f4c77e34450>"
      ]
     },
     "metadata": {},
     "output_type": "display_data"
    }
   ],
   "source": [
    "#Correlation Matrix\n",
    "corr = df_fea.corr()\n",
    "corr = (corr)\n",
    "sns.heatmap(corr, \n",
    "            xticklabels=corr.columns.values,\n",
    "            yticklabels=corr.columns.values)\n",
    "plt.title('Heatmap of Correlation Matrix')\n",
    "corr"
   ]
  },
  {
   "cell_type": "code",
   "execution_count": null,
   "metadata": {},
   "outputs": [],
   "source": []
  },
  {
   "cell_type": "code",
   "execution_count": null,
   "metadata": {},
   "outputs": [],
   "source": []
  },
  {
   "cell_type": "markdown",
   "metadata": {},
   "source": [
    "#### This correlation matrix shows there features are not correlated to each other, which is good, we might not need to deal with correlated features"
   ]
  },
  {
   "cell_type": "markdown",
   "metadata": {},
   "source": [
    "## Split Dataset into train set and test set by using stratified sampling \n",
    "As the dataset is imbalanced and we want to evaluate the model performance on both 'Action' equally, Therefore, dividing the dataset into train and test sets using stratified sampling is necessary\n",
    "\n",
    "Here, 80% of the data are used for training models and the rest of them are used for testing \n",
    "\n"
   ]
  },
  {
   "cell_type": "code",
   "execution_count": 286,
   "metadata": {},
   "outputs": [],
   "source": [
    "# split data into train set and test set;\n",
    "X_train, X_test, y_train, y_test = train_test_split(df_fea, labels, test_size=0.2, stratify=labels)\n"
   ]
  },
  {
   "cell_type": "code",
   "execution_count": 287,
   "metadata": {},
   "outputs": [
    {
     "data": {
      "text/plain": [
       "pandas.core.frame.DataFrame"
      ]
     },
     "execution_count": 287,
     "metadata": {},
     "output_type": "execute_result"
    }
   ],
   "source": [
    "type(X_train)"
   ]
  },
  {
   "cell_type": "markdown",
   "metadata": {},
   "source": [
    "\n",
    "# Feature Selection\n",
    "\n",
    "### At the very begining, we can use a random forest classifier to do feature selection \n"
   ]
  },
  {
   "cell_type": "code",
   "execution_count": 288,
   "metadata": {},
   "outputs": [
    {
     "name": "stderr",
     "output_type": "stream",
     "text": [
      "/home/lein/miniconda2/lib/python2.7/site-packages/ipykernel_launcher.py:6: DataConversionWarning: A column-vector y was passed when a 1d array was expected. Please change the shape of y to (n_samples,), for example using ravel().\n",
      "  \n"
     ]
    },
    {
     "data": {
      "image/png": "[encoded data removed]",
      "text/plain": [
       "<matplotlib.figure.Figure at 0x7f4c77ca1ad0>"
      ]
     },
     "metadata": {},
     "output_type": "display_data"
    }
   ],
   "source": [
    "# Define a classifier\n",
    "rf_clf = RandomForestClassifier(max_depth=15,n_estimators=70, min_samples_leaf=50,\n",
    "                                  min_samples_split=100, random_state=10)\n",
    "\n",
    "# Train the model\n",
    "rf_clf.fit(X_train,y_train)\n",
    "\n",
    "# Plot the top 40 important features\n",
    "imp_feat_rf = pd.Series(rf_clf.feature_importances_, index=X_train.columns).sort_values(ascending=False)\n",
    "imp_feat_rf.plot(kind='bar', title='Feature Importance with Random Forest', figsize=(12,8))\n",
    "plt.ylabel('Feature Importance values')\n",
    "plt.subplots_adjust(bottom=0.25)\n",
    "plt.savefig('FeatImportance.png')\n",
    "plt.show()"
   ]
  },
  {
   "cell_type": "markdown",
   "metadata": {},
   "source": [
    "### Observesion of importance of features. \n",
    "1. we can find that ActionTime, InteractionTime and user ID are the top 3 important features among all the features.  \n",
    "2. One interesting finding is website is an insignificant feature accoring to this figure, However, our intuition is the click-through-rate might be related to which wensite the ads were exposed because we need to spend more money on popular webisite like Facebook in order to put on ads. \n",
    "\n",
    "At this stage, we cannot conclude that website is a unimportant feature, In order to get more confidence, Let us try few more feature selection methods"
   ]
  },
  {
   "cell_type": "markdown",
   "metadata": {},
   "source": [
    "### Therefore I use XGBoost regressor to generate the rank of \"feature importance\""
   ]
  },
  {
   "cell_type": "code",
   "execution_count": 289,
   "metadata": {},
   "outputs": [
    {
     "data": {
      "image/png": "[encoded data removed]",
      "text/plain": [
       "<matplotlib.figure.Figure at 0x7f4c19268950>"
      ]
     },
     "metadata": {},
     "output_type": "display_data"
    }
   ],
   "source": [
    "xgb = XGBRegressor()\n",
    "xgb.fit(X_train, y_train)\n",
    "imp = pd.DataFrame(xgb.feature_importances_ ,columns = ['Importance'],index = X_train.columns)\n",
    "imp = imp.sort_values(['Importance'], ascending = False)\n",
    "\n",
    "imp.plot(kind='bar', title='Feature Importance with XGBoost', figsize=(12,8))\n",
    "plt.ylabel('Feature Importance values')\n",
    "plt.subplots_adjust(bottom=0.25)\n",
    "plt.show()"
   ]
  },
  {
   "cell_type": "markdown",
   "metadata": {},
   "source": [
    "#### The feature importance results from XGBoost is a little bit different, but the top three most important features are the same, \n",
    "\n",
    "\n",
    "##  Now we can use RFECV to eliminate the redundant features(i.e. Select features).\n",
    "\n",
    "\n",
    "The following are what I did originally to select features. I ran a loop and use XGBoost regressor with cross validation to see the improvement of Root-Mean-Squared-Error as a function of the number of features included. This method is essentially the RFECV algorithm).\n",
    "\n"
   ]
  },
  {
   "cell_type": "code",
   "execution_count": 290,
   "metadata": {},
   "outputs": [
    {
     "name": "stdout",
     "output_type": "stream",
     "text": [
      "The number of selected features is: 7\n",
      "the selected features are the followings\n",
      "['ID' 'ActionTime' 'Website' 'BannerArea' 'Brand' 'colour'\n",
      " 'InteractionTime']\n",
      "<type 'numpy.ndarray'>\n"
     ]
    }
   ],
   "source": [
    "# Define a function to calculate RMSE\n",
    "def rmse(y_true, y_pred):\n",
    "    return np.sqrt(np.mean((y_true-y_pred)**2))\n",
    "\n",
    "# Define a function to calculate negative RMSE (as a score)\n",
    "def nrmse(y_true, y_pred):\n",
    "    return -1.0*rmse(y_true, y_pred)\n",
    "\n",
    "neg_rmse = make_scorer(nrmse)\n",
    "\n",
    "estimator = XGBRegressor()\n",
    "selector = RFECV(estimator, cv = 3, n_jobs = -1, scoring = neg_rmse)\n",
    "selector = selector.fit(X_train, y_train)\n",
    "\n",
    "print(\"The number of selected features is: {}\".format(selector.n_features_))\n",
    "\n",
    "features_kept = X_train.columns.values[selector.support_] \n",
    "print 'the selected features are the followings'\n",
    "print features_kept\n",
    "\n",
    "X_train = selector.transform(X_train)  \n",
    "X_test = selector.transform(X_test)\n",
    "print type(X_train)"
   ]
  },
  {
   "cell_type": "markdown",
   "metadata": {},
   "source": [
    "### At this stage, the feature selection part is done\n",
    "\n",
    "# Model Selection and Model Evaluation\n",
    "## --Cross-validation with stratification based on class labels.\n",
    "\n",
    "One thing we need to clarify is that our goal is to estimate the probability of click on ads. This a regression problem instead of classifiction problem: \n",
    "1. As our dataset almost consists of catagrical features, and we know that tree-based method perform well on categrical data\n",
    "\n",
    "2. we need to adopt cross-validation with stratification becasue of our imbalanced dataset \n",
    "\n",
    "2. Therefore, I decided to implement three-basned regression models first(we can choose more than three models if we want, but three models are enough for now to show an example of model selection using cross-validation. beside, becasue of my computer's memory restriction, I am unable to perform cross-validation for  more models)\n",
    "\n",
    "3. After evaluate their performance with the averaged L2 loss through cross-validation, we can pick the one has lowest loss as our final model.\n",
    "\n",
    "4. After performing the above, we will do hyperparameter tuning to achieve a lower loss.(better model)\n",
    "\n",
    "Let us try a decision tree first.\n"
   ]
  },
  {
   "cell_type": "code",
   "execution_count": 291,
   "metadata": {},
   "outputs": [],
   "source": [
    "# before get started, we need to split data into subsets. \n",
    "#hus, let us combine X_train, X_test, y_train and y_test together \n",
    "\n",
    "X=np.vstack((X_train,X_test))\n",
    "y=np.vstack((y_train,y_test))\n"
   ]
  },
  {
   "cell_type": "code",
   "execution_count": 238,
   "metadata": {},
   "outputs": [],
   "source": [
    "from sklearn.model_selection import StratifiedKFold\n",
    "from sklearn.ensemble import GradientBoostingRegressor\n",
    "from sklearn.metrics import mean_squared_error\n",
    "from sklearn import tree\n",
    "\n",
    "## Start with stratified 10 folde cross-validation for \n",
    "skf = StratifiedKFold(n_splits=10)\n",
    "tree_mse_list =[]\n",
    "\n",
    "for train_index, test_index in skf.split(X, y):\n",
    "    X_train, X_test = X[train_index], X[test_index]\n",
    "    y_train, y_test = y[train_index], y[test_index]\n",
    "    clf = tree.DecisionTreeRegressor().fit(X_train, y_train)\n",
    "    mse = mean_squared_error(y_test, clf.predict(X_test))\n",
    "    tree_mse_list.append(mse)\n",
    "   \n",
    "\n"
   ]
  },
  {
   "cell_type": "code",
   "execution_count": 160,
   "metadata": {},
   "outputs": [],
   "source": [
    "#let's try a more advanced boosting model GradientBoostingRegressor\n",
    "\n",
    "GBR_mse_list=[]\n",
    "for train_index, test_index in skf.split(X, y):\n",
    "    X_train, X_test = X[train_index], X[test_index]\n",
    "    y_train, y_test = y[train_index], y[test_index]\n",
    "    est = GradientBoostingRegressor(n_estimators=100, learning_rate=0.1, \n",
    "    max_depth=1, random_state=0, loss='ls').fit(X_train, y_train)\n",
    "    pred = est.predict(X_test)\n",
    "    mse = mean_squared_error(y_test, est.predict(X_test))\n",
    "    GBR_mse_list.append(mse)\n",
    "    \n"
   ]
  },
  {
   "cell_type": "code",
   "execution_count": 163,
   "metadata": {},
   "outputs": [],
   "source": [
    "# XGBoost with 10-fold- stratified cross validation\n",
    "XGB_mse_list=[]\n",
    "for train_index, test_index in skf.split(X, y):\n",
    "    X_train, X_test = X[train_index], X[test_index]\n",
    "    y_train, y_test = y[train_index], y[test_index]\n",
    "    xgb = XGBRegressor(n_estimators=500, learning_rate=0.05, subsample=0.5, colsample_bytree=0.5, \n",
    "                   max_depth=3, gamma=0, reg_alpha=0, reg_lambda=2, min_child_weight=1).fit(X_train, y_train)\n",
    "    pred = xgb.predict(X_test)\n",
    "    mse = mean_squared_error(y_test, xgb.predict(X_test))\n",
    "    XGB_mse_list.append(mse)"
   ]
  },
  {
   "cell_type": "markdown",
   "metadata": {},
   "source": [
    "## Summary of three regression models"
   ]
  },
  {
   "cell_type": "code",
   "execution_count": 165,
   "metadata": {},
   "outputs": [
    {
     "name": "stdout",
     "output_type": "stream",
     "text": [
      "The Cross_validation LOSS of decision tree regressor is\n",
      "0.000457000270037\n",
      "The Cross_validation LOSS of GradientBoosting Regressor is\n",
      "0.000243897601461\n",
      "The Cross_validation LOSS of XGBRegressor is\n",
      "0.000243081547549\n"
     ]
    }
   ],
   "source": [
    "print 'The Cross_validation LOSS of decision tree regressor is'\n",
    "print np.mean(tree_mse_list)\n",
    "print 'The Cross_validation LOSS of GradientBoosting Regressor is'\n",
    "print np.mean(GBR_mse_list)\n",
    "print 'The Cross_validation LOSS of XGBRegressor is'\n",
    "print np.mean(XGB_mse_list)\n"
   ]
  },
  {
   "cell_type": "markdown",
   "metadata": {},
   "source": [
    "### As the loss of  XGBRegressor is the lowest according to cross-validation results. Therefore, we will choose  XGBRegressor  among the three models"
   ]
  },
  {
   "cell_type": "markdown",
   "metadata": {},
   "source": [
    "# Step 4: Hyperparameter tuning \n",
    "\n",
    "\n",
    "1. The hyperparameters of these regressors were tuned using GridSearchCV. \n",
    "\n",
    "2. Again, becasue of my computer computational ability is not good, it is very slow to run GridSearchCV over many different options of parameters. Therefore, I did not try different parameters a lot, but we can get the idea of hyperparameter tuning\n"
   ]
  },
  {
   "cell_type": "code",
   "execution_count": 181,
   "metadata": {},
   "outputs": [
    {
     "name": "stdout",
     "output_type": "stream",
     "text": [
      "Fitting 5 folds for each of 4 candidates, totalling 20 fits\n",
      "[CV] n_estimators=500, max_depth=3 ...................................\n",
      "[CV] .................... n_estimators=500, max_depth=3, total= 1.7min\n",
      "[CV] n_estimators=500, max_depth=3 ...................................\n"
     ]
    },
    {
     "name": "stderr",
     "output_type": "stream",
     "text": [
      "[Parallel(n_jobs=1)]: Done   1 out of   1 | elapsed:  1.8min remaining:    0.0s\n"
     ]
    },
    {
     "name": "stdout",
     "output_type": "stream",
     "text": [
      "[CV] .................... n_estimators=500, max_depth=3, total= 1.7min\n",
      "[CV] n_estimators=500, max_depth=3 ...................................\n",
      "[CV] .................... n_estimators=500, max_depth=3, total= 1.7min\n",
      "[CV] n_estimators=500, max_depth=3 ...................................\n",
      "[CV] .................... n_estimators=500, max_depth=3, total= 1.6min\n",
      "[CV] n_estimators=500, max_depth=3 ...................................\n",
      "[CV] .................... n_estimators=500, max_depth=3, total= 1.6min\n",
      "[CV] n_estimators=100, max_depth=3 ...................................\n",
      "[CV] .................... n_estimators=100, max_depth=3, total=  19.3s\n",
      "[CV] n_estimators=100, max_depth=3 ...................................\n",
      "[CV] .................... n_estimators=100, max_depth=3, total=  19.2s\n",
      "[CV] n_estimators=100, max_depth=3 ...................................\n",
      "[CV] .................... n_estimators=100, max_depth=3, total=  19.3s\n",
      "[CV] n_estimators=100, max_depth=3 ...................................\n",
      "[CV] .................... n_estimators=100, max_depth=3, total=  19.4s\n",
      "[CV] n_estimators=100, max_depth=3 ...................................\n",
      "[CV] .................... n_estimators=100, max_depth=3, total=  20.3s\n",
      "[CV] n_estimators=500, max_depth=5 ...................................\n",
      "[CV] .................... n_estimators=500, max_depth=5, total= 2.9min\n",
      "[CV] n_estimators=500, max_depth=5 ...................................\n",
      "[CV] .................... n_estimators=500, max_depth=5, total= 2.8min\n",
      "[CV] n_estimators=500, max_depth=5 ...................................\n",
      "[CV] .................... n_estimators=500, max_depth=5, total= 2.8min\n",
      "[CV] n_estimators=500, max_depth=5 ...................................\n",
      "[CV] .................... n_estimators=500, max_depth=5, total= 3.0min\n",
      "[CV] n_estimators=500, max_depth=5 ...................................\n",
      "[CV] .................... n_estimators=500, max_depth=5, total= 2.8min\n",
      "[CV] n_estimators=100, max_depth=5 ...................................\n",
      "[CV] .................... n_estimators=100, max_depth=5, total=  32.2s\n",
      "[CV] n_estimators=100, max_depth=5 ...................................\n",
      "[CV] .................... n_estimators=100, max_depth=5, total=  32.0s\n",
      "[CV] n_estimators=100, max_depth=5 ...................................\n",
      "[CV] .................... n_estimators=100, max_depth=5, total=  31.2s\n",
      "[CV] n_estimators=100, max_depth=5 ...................................\n",
      "[CV] .................... n_estimators=100, max_depth=5, total=  30.9s\n",
      "[CV] n_estimators=100, max_depth=5 ...................................\n",
      "[CV] .................... n_estimators=100, max_depth=5, total=  30.9s\n"
     ]
    },
    {
     "name": "stderr",
     "output_type": "stream",
     "text": [
      "[Parallel(n_jobs=1)]: Done  20 out of  20 | elapsed: 28.4min finished\n"
     ]
    },
    {
     "name": "stdout",
     "output_type": "stream",
     "text": [
      "XGBRegressor(base_score=0.5, booster='gbtree', colsample_bylevel=1,\n",
      "       colsample_bytree=1, gamma=0, learning_rate=0.1, max_delta_step=0,\n",
      "       max_depth=3, min_child_weight=1, missing=None, n_estimators=100,\n",
      "       n_jobs=1, nthread=None, objective='reg:linear', random_state=0,\n",
      "       reg_alpha=0, reg_lambda=1, scale_pos_weight=1, seed=None,\n",
      "       silent=True, subsample=1)\n"
     ]
    }
   ],
   "source": [
    "params={\n",
    "    'max_depth': [3,5], # 5 is good but takes too long in kaggle env\n",
    "    #'subsample': [0.3,0.5],\n",
    "    #'colsample_bytree': [0.5,0.8],\n",
    "    'n_estimators': [500,100],\n",
    "    #'reg_alpha': [0.01, 0]\n",
    "}\n",
    "xgb_clf = XGBRegressor()\n",
    "rs = GridSearchCV(xgb_clf,\n",
    "                  params,\n",
    "                  cv=5,\n",
    "                  scoring=\"neg_mean_squared_error\",\n",
    "                  n_jobs=1,\n",
    "                  verbose=2)\n",
    "rs.fit(X_train, y_train)\n",
    "best_est = rs.best_estimator_\n",
    "print(best_est)"
   ]
  },
  {
   "cell_type": "markdown",
   "metadata": {},
   "source": [
    "### After finding the best parameters, Now we can use these parameter in the XGBoosting regression model\n",
    "next, we will use this model to make the final prediction on test set and computet the losses for each records in the test set and save these prediction into a csv file\n",
    "\n",
    "### Finally, as we already have the labels for the test set, we can compute the L2 loss "
   ]
  },
  {
   "cell_type": "code",
   "execution_count": 236,
   "metadata": {},
   "outputs": [],
   "source": [
    "# change several paramters as the best options and the we will use this as the final model\n",
    "\n",
    "xgb = XGBRegressor(base_score=0.5, booster='gbtree', colsample_bylevel=1,\n",
    "       colsample_bytree=1, gamma=0, learning_rate=0.1, max_delta_step=0,\n",
    "       max_depth=3, min_child_weight=1, missing=None, n_estimators=100,\n",
    "       n_jobs=1, nthread=None, objective='reg:linear', random_state=0,\n",
    "       reg_alpha=0, reg_lambda=1, scale_pos_weight=1, seed=None,\n",
    "       silent=True, subsample=1).fit(X_train, y_train)\n",
    "\n",
    "\n"
   ]
  },
  {
   "cell_type": "markdown",
   "metadata": {},
   "source": [
    "# When we have some data need to predict the probabiity of click, we can use this mode \n",
    "\n",
    "#### Note that the following code is for the new data that need to perform prediction; the following  code won't work \n",
    "\n",
    "#### The new data need to go through the data preproceiing steps, then we can use this model to predict the probability of click \n"
   ]
  },
  {
   "cell_type": "code",
   "execution_count": null,
   "metadata": {},
   "outputs": [],
   "source": [
    "X_pred = pd.read_csv('./ ....')\n",
    "pred = xgb.predict(X_pred)\n",
    "mse = mean_squared_error(y_test, xgb.predict(X_test))"
   ]
  },
  {
   "cell_type": "code",
   "execution_count": 233,
   "metadata": {},
   "outputs": [],
   "source": [
    "\n",
    "cilck_probs = pred\n",
    "\n",
    "#generate the dataFrame we want to save.\n",
    "pred= np.reshape(pred, (pred.shape[0], 1)) \n",
    "test_arr = np.hstack((X_test,y_test,pred))\n",
    "col =raw_data.columns.tolist()\n",
    "colu =col+['Prob_Click']\n",
    "df_re= pd.DataFrame(test_arr,columns=colu)\n",
    "## Save the prediction results to a .csv file as dataframe\n",
    "save_results = df_re\n",
    "save_results.to_csv(\"xgboost_Click_Probability.csv\", index=False)\n",
    "\n",
    "\n"
   ]
  },
  {
   "cell_type": "markdown",
   "metadata": {},
   "source": [
    "# Summary \n",
    "\n",
    "## In order to predict the view-to-click probability of online ads, the following steps are taken:\n",
    "\n",
    "### 1. Data analysis and data wrangling\n",
    "### 2. Feature Selection and Feature Engineering\n",
    "### 3. Model Selection and Model building \n",
    "### 4. Model Evaluation and Hyperparameter Tuning "
   ]
  },
  {
   "cell_type": "markdown",
   "metadata": {},
   "source": [
    "Thanks for giving me this opportunity, any feedback will be appreciate.\n"
   ]
  },
  {
   "cell_type": "code",
   "execution_count": null,
   "metadata": {},
   "outputs": [],
   "source": []
  }
 ],
 "metadata": {
  "kernelspec": {
   "display_name": "Python 2",
   "language": "python",
   "name": "python2"
  },
  "language_info": {
   "codemirror_mode": {
    "name": "ipython",
    "version": 2
   },
   "file_extension": ".py",
   "mimetype": "text/x-python",
   "name": "python",
   "nbconvert_exporter": "python",
   "pygments_lexer": "ipython2",
   "version": "2.7.14"
  }
 },
 "nbformat": 4,
 "nbformat_minor": 2
}
